{
  "nbformat": 4,
  "nbformat_minor": 0,
  "metadata": {
    "colab": {
      "name": "DAHW5.ipynb",
      "provenance": []
    },
    "kernelspec": {
      "name": "python3",
      "display_name": "Python 3"
    },
    "accelerator": "GPU"
  },
  "cells": [
    {
      "cell_type": "markdown",
      "metadata": {
        "id": "X160teOs7g1y"
      },
      "source": [
        "#Download the dataset airline-passengers.csv"
      ]
    },
    {
      "cell_type": "code",
      "metadata": {
        "id": "FR41z7fgWAul"
      },
      "source": [
        "from google.colab import files #This cell is used when running this code on Google Colab Platform\r\n",
        "#uploaded = files.upload()"
      ],
      "execution_count": null,
      "outputs": []
    },
    {
      "cell_type": "markdown",
      "metadata": {
        "id": "7OgL-Gqe75u1"
      },
      "source": [
        "#Import Libraries"
      ]
    },
    {
      "cell_type": "code",
      "metadata": {
        "id": "n4-6B2FqXI7l"
      },
      "source": [
        "import numpy\r\n",
        "import pandas\r\n",
        "import math\r\n",
        "import matplotlib.pyplot as plt\r\n",
        "import pandas\r\n",
        "from keras.models import Sequential\r\n",
        "from keras.layers import Dense\r\n",
        "from keras.layers import LSTM\r\n",
        "from sklearn.preprocessing import MinMaxScaler"
      ],
      "execution_count": null,
      "outputs": []
    },
    {
      "cell_type": "markdown",
      "metadata": {
        "id": "dMO4mxT68C5D"
      },
      "source": [
        "#a) Plot the time series data"
      ]
    },
    {
      "cell_type": "code",
      "metadata": {
        "colab": {
          "base_uri": "https://localhost:8080/",
          "height": 265
        },
        "id": "bYvnpjYSXKId",
        "outputId": "e58cf96f-0874-48f4-f133-380d3dd7104a"
      },
      "source": [
        "# load  and plot the dataset excluding the first column\r\n",
        "dataframe = pandas.read_csv('airline-passengers.csv', usecols=[1], engine='python')\r\n",
        "plt.plot(dataframe)\r\n",
        "plt.show()"
      ],
      "execution_count": null,
      "outputs": [
        {
          "output_type": "display_data",
          "data": {
            "image/png": "[encoded data removed]",
            "text/plain": [
              "<Figure size 432x288 with 1 Axes>"
            ]
          },
          "metadata": {
            "tags": [],
            "needs_background": "light"
          }
        }
      ]
    },
    {
      "cell_type": "markdown",
      "metadata": {
        "id": "dkl7QWLl9bxW"
      },
      "source": [
        "#c) Build an LSTM network"
      ]
    },
    {
      "cell_type": "code",
      "metadata": {
        "id": "gmW0s-JXX8C5"
      },
      "source": [
        "#A function that converts an array of values into a dataset matrix\r\n",
        "def create_dataset(dataset, look_back=1):\r\n",
        "\tdataX, dataY = [], []\r\n",
        "\tfor i in range(len(dataset)-look_back-1):\r\n",
        "\t\ta = dataset[i:(i+look_back), 0]\r\n",
        "\t\tdataX.append(a)\r\n",
        "\t\tdataY.append(dataset[i + look_back, 0])\r\n",
        "\treturn numpy.array(dataX), numpy.array(dataY)"
      ],
      "execution_count": null,
      "outputs": []
    },
    {
      "cell_type": "code",
      "metadata": {
        "id": "llWKE2tT9eBi"
      },
      "source": [
        "#Fix the random number seed to 0 in numpy for reproducibility\r\n",
        "numpy.random.seed(0)"
      ],
      "execution_count": null,
      "outputs": []
    },
    {
      "cell_type": "code",
      "metadata": {
        "id": "--tGB7zn-WuU"
      },
      "source": [
        "#Convert the integer values in the data to floating point values\r\n",
        "dataset = dataframe.values\r\n",
        "dataset = dataset.astype('float32')"
      ],
      "execution_count": null,
      "outputs": []
    },
    {
      "cell_type": "code",
      "metadata": {
        "id": "0TQdnLFZ9ois"
      },
      "source": [
        "#Normalize the data to range (0 - 1) using MinMaxScaler\r\n",
        "Scaler = MinMaxScaler()\r\n",
        "dataset = Scaler.fit_transform(dataset)"
      ],
      "execution_count": null,
      "outputs": []
    },
    {
      "cell_type": "code",
      "metadata": {
        "id": "PExKJyZ4XUzL"
      },
      "source": [
        "#Split the first 67% of the data as training data\r\n",
        "train_size = int(len(dataset) * 0.67)\r\n",
        "test_size = len(dataset) - train_size\r\n",
        "#And split the remaining 33% as testing data\r\n",
        "train, test = dataset[0:train_size,:], dataset[train_size:len(dataset),:]"
      ],
      "execution_count": null,
      "outputs": []
    },
    {
      "cell_type": "code",
      "metadata": {
        "id": "cw6MZPU3Y-NS"
      },
      "source": [
        "#Obtain the two-column input-output dataset\r\n",
        "look_back = 1\r\n",
        "trainX, trainY = create_dataset(train, look_back)\r\n",
        "testX, testY = create_dataset(test, look_back)"
      ],
      "execution_count": null,
      "outputs": []
    },
    {
      "cell_type": "code",
      "metadata": {
        "colab": {
          "base_uri": "https://localhost:8080/"
        },
        "id": "nc7BUabRZh2c",
        "outputId": "facaed74-2b39-43d2-d449-3a5fdf4d68f1"
      },
      "source": [
        "model = Sequential()\r\n",
        "\r\n",
        "#Build the LSTM network with a hidden layer of 4 neurons\r\n",
        "model.add(LSTM(4, input_dim=look_back, recurrent_activation='sigmoid', return_sequences=True))\r\n",
        "\r\n",
        "#And an output layer with a single neuron\r\n",
        "model.add(Dense(1))\r\n",
        "\r\n",
        "model.compile(loss='mean_squared_error', optimizer='adam')\r\n",
        "\r\n",
        "#Reshape the input data to be in the [samples, time steps, features] format\r\n",
        "trainX = numpy.reshape(trainX, (trainX.shape[0], 1, trainX.shape[1]))\r\n",
        "testX = numpy.reshape(testX, (testX.shape[0], 1, testX.shape[1]))\r\n",
        "\r\n",
        "model.fit(trainX, trainY, epochs=100, batch_size=1, verbose=2)"
      ],
      "execution_count": null,
      "outputs": [
        {
          "output_type": "stream",
          "text": [
            "Epoch 1/100\n",
            "94/94 - 0s - loss: 0.0323\n",
            "Epoch 2/100\n",
            "94/94 - 0s - loss: 0.0156\n",
            "Epoch 3/100\n",
            "94/94 - 0s - loss: 0.0124\n",
            "Epoch 4/100\n",
            "94/94 - 0s - loss: 0.0112\n",
            "Epoch 5/100\n",
            "94/94 - 0s - loss: 0.0104\n",
            "Epoch 6/100\n",
            "94/94 - 0s - loss: 0.0095\n",
            "Epoch 7/100\n",
            "94/94 - 0s - loss: 0.0086\n",
            "Epoch 8/100\n",
            "94/94 - 0s - loss: 0.0077\n",
            "Epoch 9/100\n",
            "94/94 - 0s - loss: 0.0068\n",
            "Epoch 10/100\n",
            "94/94 - 0s - loss: 0.0061\n",
            "Epoch 11/100\n",
            "94/94 - 0s - loss: 0.0053\n",
            "Epoch 12/100\n",
            "94/94 - 0s - loss: 0.0046\n",
            "Epoch 13/100\n",
            "94/94 - 0s - loss: 0.0040\n",
            "Epoch 14/100\n",
            "94/94 - 0s - loss: 0.0035\n",
            "Epoch 15/100\n",
            "94/94 - 0s - loss: 0.0031\n",
            "Epoch 16/100\n",
            "94/94 - 0s - loss: 0.0028\n",
            "Epoch 17/100\n",
            "94/94 - 0s - loss: 0.0025\n",
            "Epoch 18/100\n",
            "94/94 - 0s - loss: 0.0023\n",
            "Epoch 19/100\n",
            "94/94 - 0s - loss: 0.0022\n",
            "Epoch 20/100\n",
            "94/94 - 0s - loss: 0.0021\n",
            "Epoch 21/100\n",
            "94/94 - 0s - loss: 0.0020\n",
            "Epoch 22/100\n",
            "94/94 - 0s - loss: 0.0020\n",
            "Epoch 23/100\n",
            "94/94 - 0s - loss: 0.0020\n",
            "Epoch 24/100\n",
            "94/94 - 0s - loss: 0.0020\n",
            "Epoch 25/100\n",
            "94/94 - 0s - loss: 0.0020\n",
            "Epoch 26/100\n",
            "94/94 - 0s - loss: 0.0020\n",
            "Epoch 27/100\n",
            "94/94 - 0s - loss: 0.0020\n",
            "Epoch 28/100\n",
            "94/94 - 0s - loss: 0.0020\n",
            "Epoch 29/100\n",
            "94/94 - 0s - loss: 0.0020\n",
            "Epoch 30/100\n",
            "94/94 - 0s - loss: 0.0020\n",
            "Epoch 31/100\n",
            "94/94 - 0s - loss: 0.0020\n",
            "Epoch 32/100\n",
            "94/94 - 0s - loss: 0.0021\n",
            "Epoch 33/100\n",
            "94/94 - 0s - loss: 0.0020\n",
            "Epoch 34/100\n",
            "94/94 - 0s - loss: 0.0020\n",
            "Epoch 35/100\n",
            "94/94 - 0s - loss: 0.0020\n",
            "Epoch 36/100\n",
            "94/94 - 0s - loss: 0.0020\n",
            "Epoch 37/100\n",
            "94/94 - 0s - loss: 0.0020\n",
            "Epoch 38/100\n",
            "94/94 - 0s - loss: 0.0020\n",
            "Epoch 39/100\n",
            "94/94 - 0s - loss: 0.0019\n",
            "Epoch 40/100\n",
            "94/94 - 0s - loss: 0.0021\n",
            "Epoch 41/100\n",
            "94/94 - 0s - loss: 0.0019\n",
            "Epoch 42/100\n",
            "94/94 - 0s - loss: 0.0020\n",
            "Epoch 43/100\n",
            "94/94 - 0s - loss: 0.0020\n",
            "Epoch 44/100\n",
            "94/94 - 0s - loss: 0.0020\n",
            "Epoch 45/100\n",
            "94/94 - 0s - loss: 0.0020\n",
            "Epoch 46/100\n",
            "94/94 - 0s - loss: 0.0020\n",
            "Epoch 47/100\n",
            "94/94 - 0s - loss: 0.0020\n",
            "Epoch 48/100\n",
            "94/94 - 0s - loss: 0.0019\n",
            "Epoch 49/100\n",
            "94/94 - 0s - loss: 0.0020\n",
            "Epoch 50/100\n",
            "94/94 - 0s - loss: 0.0020\n",
            "Epoch 51/100\n",
            "94/94 - 0s - loss: 0.0019\n",
            "Epoch 52/100\n",
            "94/94 - 0s - loss: 0.0020\n",
            "Epoch 53/100\n",
            "94/94 - 0s - loss: 0.0020\n",
            "Epoch 54/100\n",
            "94/94 - 0s - loss: 0.0020\n",
            "Epoch 55/100\n",
            "94/94 - 0s - loss: 0.0020\n",
            "Epoch 56/100\n",
            "94/94 - 0s - loss: 0.0020\n",
            "Epoch 57/100\n",
            "94/94 - 0s - loss: 0.0021\n",
            "Epoch 58/100\n",
            "94/94 - 0s - loss: 0.0020\n",
            "Epoch 59/100\n",
            "94/94 - 0s - loss: 0.0020\n",
            "Epoch 60/100\n",
            "94/94 - 0s - loss: 0.0020\n",
            "Epoch 61/100\n",
            "94/94 - 0s - loss: 0.0020\n",
            "Epoch 62/100\n",
            "94/94 - 0s - loss: 0.0020\n",
            "Epoch 63/100\n",
            "94/94 - 0s - loss: 0.0020\n",
            "Epoch 64/100\n",
            "94/94 - 0s - loss: 0.0021\n",
            "Epoch 65/100\n",
            "94/94 - 0s - loss: 0.0020\n",
            "Epoch 66/100\n",
            "94/94 - 0s - loss: 0.0020\n",
            "Epoch 67/100\n",
            "94/94 - 0s - loss: 0.0020\n",
            "Epoch 68/100\n",
            "94/94 - 0s - loss: 0.0020\n",
            "Epoch 69/100\n",
            "94/94 - 0s - loss: 0.0020\n",
            "Epoch 70/100\n",
            "94/94 - 0s - loss: 0.0020\n",
            "Epoch 71/100\n",
            "94/94 - 0s - loss: 0.0020\n",
            "Epoch 72/100\n",
            "94/94 - 0s - loss: 0.0019\n",
            "Epoch 73/100\n",
            "94/94 - 0s - loss: 0.0020\n",
            "Epoch 74/100\n",
            "94/94 - 0s - loss: 0.0020\n",
            "Epoch 75/100\n",
            "94/94 - 0s - loss: 0.0020\n",
            "Epoch 76/100\n",
            "94/94 - 0s - loss: 0.0020\n",
            "Epoch 77/100\n",
            "94/94 - 0s - loss: 0.0020\n",
            "Epoch 78/100\n",
            "94/94 - 0s - loss: 0.0020\n",
            "Epoch 79/100\n",
            "94/94 - 0s - loss: 0.0020\n",
            "Epoch 80/100\n",
            "94/94 - 0s - loss: 0.0020\n",
            "Epoch 81/100\n",
            "94/94 - 0s - loss: 0.0020\n",
            "Epoch 82/100\n",
            "94/94 - 0s - loss: 0.0020\n",
            "Epoch 83/100\n",
            "94/94 - 0s - loss: 0.0021\n",
            "Epoch 84/100\n",
            "94/94 - 0s - loss: 0.0020\n",
            "Epoch 85/100\n",
            "94/94 - 0s - loss: 0.0021\n",
            "Epoch 86/100\n",
            "94/94 - 0s - loss: 0.0021\n",
            "Epoch 87/100\n",
            "94/94 - 0s - loss: 0.0020\n",
            "Epoch 88/100\n",
            "94/94 - 0s - loss: 0.0020\n",
            "Epoch 89/100\n",
            "94/94 - 0s - loss: 0.0020\n",
            "Epoch 90/100\n",
            "94/94 - 0s - loss: 0.0020\n",
            "Epoch 91/100\n",
            "94/94 - 0s - loss: 0.0020\n",
            "Epoch 92/100\n",
            "94/94 - 0s - loss: 0.0020\n",
            "Epoch 93/100\n",
            "94/94 - 0s - loss: 0.0020\n",
            "Epoch 94/100\n",
            "94/94 - 0s - loss: 0.0020\n",
            "Epoch 95/100\n",
            "94/94 - 0s - loss: 0.0020\n",
            "Epoch 96/100\n",
            "94/94 - 0s - loss: 0.0020\n",
            "Epoch 97/100\n",
            "94/94 - 0s - loss: 0.0020\n",
            "Epoch 98/100\n",
            "94/94 - 0s - loss: 0.0019\n",
            "Epoch 99/100\n",
            "94/94 - 0s - loss: 0.0021\n",
            "Epoch 100/100\n",
            "94/94 - 0s - loss: 0.0020\n"
          ],
          "name": "stdout"
        },
        {
          "output_type": "execute_result",
          "data": {
            "text/plain": [
              "<tensorflow.python.keras.callbacks.History at 0x7f83325bd550>"
            ]
          },
          "metadata": {
            "tags": []
          },
          "execution_count": 10
        }
      ]
    },
    {
      "cell_type": "code",
      "metadata": {
        "colab": {
          "base_uri": "https://localhost:8080/"
        },
        "id": "A29mPoFnaCaz",
        "outputId": "6ec7ffcb-f75d-4b29-c12d-8c1f19938400"
      },
      "source": [
        "#Calculate and print the root-mean-squared-error (RMSE) in training and test data\r\n",
        "trainScore = model.evaluate(trainX, trainY, verbose=0)\r\n",
        "print('Train Score: %.2f MSE (%.2f RMSE)' % (trainScore, math.sqrt(trainScore)))\r\n",
        "testScore = model.evaluate(testX, testY, verbose=0)\r\n",
        "print('Test Score: %.2f MSE (%.2f RMSE)' % (testScore, math.sqrt(testScore)))"
      ],
      "execution_count": null,
      "outputs": [
        {
          "output_type": "stream",
          "text": [
            "Train Score: 0.00 MSE (0.04 RMSE)\n",
            "Test Score: 0.01 MSE (0.10 RMSE)\n"
          ],
          "name": "stdout"
        }
      ]
    },
    {
      "cell_type": "code",
      "metadata": {
        "id": "hAe4M5q9psY5"
      },
      "source": [
        "#Predict the next month's number of passengers\r\n",
        "trainPredict = model.predict(trainX)\r\n",
        "testPredict = model.predict(testX)"
      ],
      "execution_count": null,
      "outputs": []
    },
    {
      "cell_type": "code",
      "metadata": {
        "colab": {
          "base_uri": "https://localhost:8080/",
          "height": 265
        },
        "id": "D-Hy6HIcaVBU",
        "outputId": "48d48314-8ab2-4f7c-a4f4-6891133134bc"
      },
      "source": [
        "#Reshape the input data\r\n",
        "trainPredict = numpy.reshape(trainPredict, (trainPredict.shape[0], trainPredict.shape[1]))\r\n",
        "testPredict = numpy.reshape(testPredict, (testPredict.shape[0], testPredict.shape[1]))\r\n",
        "\r\n",
        "# shift train predictions for plotting\r\n",
        "trainPredictPlot = numpy.empty_like(dataset)\r\n",
        "trainPredictPlot[:, :] = numpy.nan\r\n",
        "trainPredictPlot[look_back:len(trainPredict)+look_back, :] = trainPredict\r\n",
        "\r\n",
        "# shift test predictions for plotting\r\n",
        "testPredictPlot = numpy.empty_like(dataset)\r\n",
        "testPredictPlot[:, :] = numpy.nan\r\n",
        "testPredictPlot[len(trainPredict)+(look_back*2)+1:len(dataset)-1, :] = testPredict\r\n",
        "\r\n",
        "# plot baseline and predictions after inverting their values\r\n",
        "plt.plot(Scaler.inverse_transform(dataset))\r\n",
        "plt.plot(Scaler.inverse_transform(trainPredictPlot))\r\n",
        "plt.plot(Scaler.inverse_transform(testPredictPlot))\r\n",
        "\r\n",
        "#Align and plot the actual and predicted values for the entire dataset\r\n",
        "plt.show()"
      ],
      "execution_count": null,
      "outputs": [
        {
          "output_type": "display_data",
          "data": {
            "image/png": "[encoded data removed]",
            "text/plain": [
              "<Figure size 432x288 with 1 Axes>"
            ]
          },
          "metadata": {
            "tags": [],
            "needs_background": "light"
          }
        }
      ]
    },
    {
      "cell_type": "markdown",
      "metadata": {
        "id": "ULUtEKkrAy8I"
      },
      "source": [
        "#d) Predict the next month's value given this month and the previous two months"
      ]
    },
    {
      "cell_type": "code",
      "metadata": {
        "id": "NIlx2LpCbJdT"
      },
      "source": [
        "#Obtain the four-columns input-output dataset\r\n",
        "look_back = 3\r\n",
        "trainX, trainY = create_dataset(train, look_back)\r\n",
        "testX, testY = create_dataset(test, look_back)"
      ],
      "execution_count": null,
      "outputs": []
    },
    {
      "cell_type": "code",
      "metadata": {
        "colab": {
          "base_uri": "https://localhost:8080/"
        },
        "id": "QpjTfCOiBZEd",
        "outputId": "0965296a-543a-4b52-8402-c700f6112fcd"
      },
      "source": [
        "model = Sequential()\r\n",
        "\r\n",
        "#Build the LSTM network with a hidden layer of 4 neurons\r\n",
        "model.add(LSTM(4, input_dim=look_back, recurrent_activation='sigmoid', return_sequences=True))\r\n",
        "\r\n",
        "#And an output layer with a single neuron\r\n",
        "model.add(Dense(1))\r\n",
        "\r\n",
        "model.compile(loss='mean_squared_error', optimizer='adam')\r\n",
        "\r\n",
        "#Reshape the input data to be in the [samples, time steps, features] format\r\n",
        "trainX = numpy.reshape(trainX, (trainX.shape[0], 1, trainX.shape[1]))\r\n",
        "testX = numpy.reshape(testX, (testX.shape[0], 1, testX.shape[1]))\r\n",
        "\r\n",
        "model.fit(trainX, trainY, epochs=100, batch_size=1, verbose=2)"
      ],
      "execution_count": null,
      "outputs": [
        {
          "output_type": "stream",
          "text": [
            "Epoch 1/100\n",
            "92/92 - 0s - loss: 0.0450\n",
            "Epoch 2/100\n",
            "92/92 - 0s - loss: 0.0186\n",
            "Epoch 3/100\n",
            "92/92 - 0s - loss: 0.0127\n",
            "Epoch 4/100\n",
            "92/92 - 0s - loss: 0.0110\n",
            "Epoch 5/100\n",
            "92/92 - 0s - loss: 0.0099\n",
            "Epoch 6/100\n",
            "92/92 - 0s - loss: 0.0088\n",
            "Epoch 7/100\n",
            "92/92 - 0s - loss: 0.0080\n",
            "Epoch 8/100\n",
            "92/92 - 0s - loss: 0.0069\n",
            "Epoch 9/100\n",
            "92/92 - 0s - loss: 0.0064\n",
            "Epoch 10/100\n",
            "92/92 - 0s - loss: 0.0059\n",
            "Epoch 11/100\n",
            "92/92 - 0s - loss: 0.0053\n",
            "Epoch 12/100\n",
            "92/92 - 0s - loss: 0.0050\n",
            "Epoch 13/100\n",
            "92/92 - 0s - loss: 0.0048\n",
            "Epoch 14/100\n",
            "92/92 - 0s - loss: 0.0045\n",
            "Epoch 15/100\n",
            "92/92 - 0s - loss: 0.0046\n",
            "Epoch 16/100\n",
            "92/92 - 0s - loss: 0.0044\n",
            "Epoch 17/100\n",
            "92/92 - 0s - loss: 0.0043\n",
            "Epoch 18/100\n",
            "92/92 - 0s - loss: 0.0042\n",
            "Epoch 19/100\n",
            "92/92 - 0s - loss: 0.0041\n",
            "Epoch 20/100\n",
            "92/92 - 0s - loss: 0.0042\n",
            "Epoch 21/100\n",
            "92/92 - 0s - loss: 0.0042\n",
            "Epoch 22/100\n",
            "92/92 - 0s - loss: 0.0041\n",
            "Epoch 23/100\n",
            "92/92 - 0s - loss: 0.0040\n",
            "Epoch 24/100\n",
            "92/92 - 0s - loss: 0.0039\n",
            "Epoch 25/100\n",
            "92/92 - 0s - loss: 0.0040\n",
            "Epoch 26/100\n",
            "92/92 - 0s - loss: 0.0038\n",
            "Epoch 27/100\n",
            "92/92 - 0s - loss: 0.0039\n",
            "Epoch 28/100\n",
            "92/92 - 0s - loss: 0.0037\n",
            "Epoch 29/100\n",
            "92/92 - 0s - loss: 0.0037\n",
            "Epoch 30/100\n",
            "92/92 - 0s - loss: 0.0037\n",
            "Epoch 31/100\n",
            "92/92 - 0s - loss: 0.0036\n",
            "Epoch 32/100\n",
            "92/92 - 0s - loss: 0.0036\n",
            "Epoch 33/100\n",
            "92/92 - 0s - loss: 0.0035\n",
            "Epoch 34/100\n",
            "92/92 - 0s - loss: 0.0035\n",
            "Epoch 35/100\n",
            "92/92 - 0s - loss: 0.0034\n",
            "Epoch 36/100\n",
            "92/92 - 0s - loss: 0.0034\n",
            "Epoch 37/100\n",
            "92/92 - 0s - loss: 0.0034\n",
            "Epoch 38/100\n",
            "92/92 - 0s - loss: 0.0034\n",
            "Epoch 39/100\n",
            "92/92 - 0s - loss: 0.0033\n",
            "Epoch 40/100\n",
            "92/92 - 0s - loss: 0.0033\n",
            "Epoch 41/100\n",
            "92/92 - 0s - loss: 0.0034\n",
            "Epoch 42/100\n",
            "92/92 - 0s - loss: 0.0032\n",
            "Epoch 43/100\n",
            "92/92 - 0s - loss: 0.0031\n",
            "Epoch 44/100\n",
            "92/92 - 0s - loss: 0.0032\n",
            "Epoch 45/100\n",
            "92/92 - 0s - loss: 0.0031\n",
            "Epoch 46/100\n",
            "92/92 - 0s - loss: 0.0031\n",
            "Epoch 47/100\n",
            "92/92 - 0s - loss: 0.0031\n",
            "Epoch 48/100\n",
            "92/92 - 0s - loss: 0.0031\n",
            "Epoch 49/100\n",
            "92/92 - 0s - loss: 0.0030\n",
            "Epoch 50/100\n",
            "92/92 - 0s - loss: 0.0030\n",
            "Epoch 51/100\n",
            "92/92 - 0s - loss: 0.0030\n",
            "Epoch 52/100\n",
            "92/92 - 0s - loss: 0.0029\n",
            "Epoch 53/100\n",
            "92/92 - 0s - loss: 0.0029\n",
            "Epoch 54/100\n",
            "92/92 - 0s - loss: 0.0028\n",
            "Epoch 55/100\n",
            "92/92 - 0s - loss: 0.0028\n",
            "Epoch 56/100\n",
            "92/92 - 0s - loss: 0.0028\n",
            "Epoch 57/100\n",
            "92/92 - 0s - loss: 0.0028\n",
            "Epoch 58/100\n",
            "92/92 - 0s - loss: 0.0026\n",
            "Epoch 59/100\n",
            "92/92 - 0s - loss: 0.0027\n",
            "Epoch 60/100\n",
            "92/92 - 0s - loss: 0.0026\n",
            "Epoch 61/100\n",
            "92/92 - 0s - loss: 0.0026\n",
            "Epoch 62/100\n",
            "92/92 - 0s - loss: 0.0027\n",
            "Epoch 63/100\n",
            "92/92 - 0s - loss: 0.0027\n",
            "Epoch 64/100\n",
            "92/92 - 0s - loss: 0.0026\n",
            "Epoch 65/100\n",
            "92/92 - 0s - loss: 0.0025\n",
            "Epoch 66/100\n",
            "92/92 - 0s - loss: 0.0025\n",
            "Epoch 67/100\n",
            "92/92 - 0s - loss: 0.0025\n",
            "Epoch 68/100\n",
            "92/92 - 0s - loss: 0.0024\n",
            "Epoch 69/100\n",
            "92/92 - 0s - loss: 0.0024\n",
            "Epoch 70/100\n",
            "92/92 - 0s - loss: 0.0025\n",
            "Epoch 71/100\n",
            "92/92 - 0s - loss: 0.0024\n",
            "Epoch 72/100\n",
            "92/92 - 0s - loss: 0.0024\n",
            "Epoch 73/100\n",
            "92/92 - 0s - loss: 0.0022\n",
            "Epoch 74/100\n",
            "92/92 - 0s - loss: 0.0023\n",
            "Epoch 75/100\n",
            "92/92 - 0s - loss: 0.0023\n",
            "Epoch 76/100\n",
            "92/92 - 0s - loss: 0.0023\n",
            "Epoch 77/100\n",
            "92/92 - 0s - loss: 0.0022\n",
            "Epoch 78/100\n",
            "92/92 - 0s - loss: 0.0022\n",
            "Epoch 79/100\n",
            "92/92 - 0s - loss: 0.0022\n",
            "Epoch 80/100\n",
            "92/92 - 0s - loss: 0.0022\n",
            "Epoch 81/100\n",
            "92/92 - 0s - loss: 0.0022\n",
            "Epoch 82/100\n",
            "92/92 - 0s - loss: 0.0022\n",
            "Epoch 83/100\n",
            "92/92 - 0s - loss: 0.0021\n",
            "Epoch 84/100\n",
            "92/92 - 0s - loss: 0.0021\n",
            "Epoch 85/100\n",
            "92/92 - 0s - loss: 0.0021\n",
            "Epoch 86/100\n",
            "92/92 - 0s - loss: 0.0021\n",
            "Epoch 87/100\n",
            "92/92 - 0s - loss: 0.0021\n",
            "Epoch 88/100\n",
            "92/92 - 0s - loss: 0.0021\n",
            "Epoch 89/100\n",
            "92/92 - 0s - loss: 0.0021\n",
            "Epoch 90/100\n",
            "92/92 - 0s - loss: 0.0020\n",
            "Epoch 91/100\n",
            "92/92 - 0s - loss: 0.0021\n",
            "Epoch 92/100\n",
            "92/92 - 0s - loss: 0.0020\n",
            "Epoch 93/100\n",
            "92/92 - 0s - loss: 0.0020\n",
            "Epoch 94/100\n",
            "92/92 - 0s - loss: 0.0020\n",
            "Epoch 95/100\n",
            "92/92 - 0s - loss: 0.0020\n",
            "Epoch 96/100\n",
            "92/92 - 0s - loss: 0.0020\n",
            "Epoch 97/100\n",
            "92/92 - 0s - loss: 0.0020\n",
            "Epoch 98/100\n",
            "92/92 - 0s - loss: 0.0019\n",
            "Epoch 99/100\n",
            "92/92 - 0s - loss: 0.0019\n",
            "Epoch 100/100\n",
            "92/92 - 0s - loss: 0.0019\n"
          ],
          "name": "stdout"
        },
        {
          "output_type": "execute_result",
          "data": {
            "text/plain": [
              "<tensorflow.python.keras.callbacks.History at 0x7f832ae07eb8>"
            ]
          },
          "metadata": {
            "tags": []
          },
          "execution_count": 15
        }
      ]
    },
    {
      "cell_type": "code",
      "metadata": {
        "colab": {
          "base_uri": "https://localhost:8080/"
        },
        "id": "PM-omSSeBZEk",
        "outputId": "24bb4c16-77a8-4c96-fdee-8184ad52180f"
      },
      "source": [
        "#Calculate and print the root-mean-squared-error (RMSE) in training and test data\r\n",
        "trainScore = model.evaluate(trainX, trainY, verbose=0)\r\n",
        "print('Train Score: %.2f MSE (%.2f RMSE)' % (trainScore, math.sqrt(trainScore)))\r\n",
        "testScore = model.evaluate(testX, testY, verbose=0)\r\n",
        "print('Test Score: %.2f MSE (%.2f RMSE)' % (testScore, math.sqrt(testScore)))"
      ],
      "execution_count": null,
      "outputs": [
        {
          "output_type": "stream",
          "text": [
            "Train Score: 0.00 MSE (0.04 RMSE)\n",
            "Test Score: 0.02 MSE (0.13 RMSE)\n"
          ],
          "name": "stdout"
        }
      ]
    },
    {
      "cell_type": "code",
      "metadata": {
        "id": "8zRIJ3MkBZEk"
      },
      "source": [
        "#Predict the next month's number of passengers\r\n",
        "trainPredict = model.predict(trainX)\r\n",
        "testPredict = model.predict(testX)"
      ],
      "execution_count": null,
      "outputs": []
    },
    {
      "cell_type": "code",
      "metadata": {
        "colab": {
          "base_uri": "https://localhost:8080/",
          "height": 265
        },
        "id": "A-Nk-4zZBZEl",
        "outputId": "d6c29d94-006a-4433-fd46-478fdd428717"
      },
      "source": [
        "#Reshape the input data\r\n",
        "trainPredict = numpy.reshape(trainPredict, (trainPredict.shape[0], trainPredict.shape[1]))\r\n",
        "testPredict = numpy.reshape(testPredict, (testPredict.shape[0], testPredict.shape[1]))\r\n",
        "\r\n",
        "# shift train predictions for plotting\r\n",
        "trainPredictPlot = numpy.empty_like(dataset)\r\n",
        "trainPredictPlot[:, :] = numpy.nan\r\n",
        "trainPredictPlot[look_back:len(trainPredict)+look_back, :] = trainPredict\r\n",
        "\r\n",
        "# shift test predictions for plotting\r\n",
        "testPredictPlot = numpy.empty_like(dataset)\r\n",
        "testPredictPlot[:, :] = numpy.nan\r\n",
        "testPredictPlot[len(trainPredict)+(look_back*2)+1:len(dataset)-1, :] = testPredict\r\n",
        "\r\n",
        "# plot baseline and predictions after inverting their values\r\n",
        "plt.plot(Scaler.inverse_transform(dataset))\r\n",
        "plt.plot(Scaler.inverse_transform(trainPredictPlot))\r\n",
        "plt.plot(Scaler.inverse_transform(testPredictPlot))\r\n",
        "\r\n",
        "#Align and plot the actual and predicted values for the entire dataset\r\n",
        "plt.show()"
      ],
      "execution_count": null,
      "outputs": [
        {
          "output_type": "display_data",
          "data": {
            "image/png": "[encoded data removed]",
            "text/plain": [
              "<Figure size 432x288 with 1 Axes>"
            ]
          },
          "metadata": {
            "tags": [],
            "needs_background": "light"
          }
        }
      ]
    },
    {
      "cell_type": "markdown",
      "metadata": {
        "id": "Db05QduzCI8q"
      },
      "source": [
        "#Refrence:"
      ]
    },
    {
      "cell_type": "markdown",
      "metadata": {
        "id": "sLoORcmtD91i"
      },
      "source": [
        "Brownlee, Jason. “Time Series Prediction With Deep Learning in Keras.” Machine Learning Mastery, 27 Aug. 2020, [machinelearningmastery.com/time-series-prediction-with-deep-learning-in-python-with-keras/](https://). "
      ]
    }
  ]
}